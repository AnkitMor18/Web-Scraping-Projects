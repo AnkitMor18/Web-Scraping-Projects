{
 "cells": [
  {
   "cell_type": "code",
   "execution_count": 1,
   "id": "4e7865ba",
   "metadata": {},
   "outputs": [],
   "source": [
    "from selenium import webdriver\n",
    "from bs4 import BeautifulSoup\n",
    "import requests"
   ]
  },
  {
   "cell_type": "code",
   "execution_count": 203,
   "id": "e52ff4a4",
   "metadata": {},
   "outputs": [
    {
     "name": "stderr",
     "output_type": "stream",
     "text": [
      "C:\\Users\\Sumit\\AppData\\Local\\Temp\\ipykernel_624\\2029195824.py:1: DeprecationWarning: executable_path has been deprecated, please pass in a Service object\n",
      "  driver = webdriver.Chrome(executable_path = r'C:\\Users\\Sumit\\Downloads\\chromedriver_win32\\chromedriver.exe')\n"
     ]
    }
   ],
   "source": [
    "driver = webdriver.Chrome(executable_path = r'C:\\Users\\Sumit\\Downloads\\chromedriver_win32\\chromedriver.exe')\n",
    "driver.get('https://paytm.com/recharge')"
   ]
  },
  {
   "cell_type": "code",
   "execution_count": 7,
   "id": "c6befbe6",
   "metadata": {},
   "outputs": [],
   "source": [
    "operator = driver.find_element('partial link text' , 'Airtel')"
   ]
  },
  {
   "cell_type": "code",
   "execution_count": 8,
   "id": "66fd2bcd",
   "metadata": {},
   "outputs": [],
   "source": [
    "operator.click()"
   ]
  },
  {
   "cell_type": "code",
   "execution_count": 10,
   "id": "24fb6f6d",
   "metadata": {},
   "outputs": [],
   "source": [
    "driver.find_element('partial link text' , 'Delhi NCR').click()"
   ]
  },
  {
   "cell_type": "code",
   "execution_count": 15,
   "id": "dd1ca04e",
   "metadata": {},
   "outputs": [],
   "source": [
    "response = requests.get(driver.current_url)"
   ]
  },
  {
   "cell_type": "code",
   "execution_count": 16,
   "id": "70ea43fc",
   "metadata": {},
   "outputs": [],
   "source": [
    "data = BeautifulSoup(response.text,'html.parser')"
   ]
  },
  {
   "cell_type": "code",
   "execution_count": 19,
   "id": "b7146cda",
   "metadata": {},
   "outputs": [],
   "source": [
    "# print(data.prettify())"
   ]
  },
  {
   "cell_type": "code",
   "execution_count": 91,
   "id": "97656e18",
   "metadata": {},
   "outputs": [
    {
     "data": {
      "text/plain": [
       "<div class=\"_1aEZ\"><div class=\"zUDk\">Delhi NCR</div><div class=\"zUDk\">Recharge</div><div class=\"zUDk\">NA</div><div class=\"zUDk\">28 Days</div><div class=\"zUDk _3WAG\">Enjoy Unlimited Local STD &amp; Roaming calls Local STD &amp; Roaming calls on any network 2GB Data and 300 SMS. Pack valid for 28 days.</div><div class=\"zUDk _17KN\"><button class=\"_11kC LLvJ _3vjB\">Rs. 179</button></div></div>"
      ]
     },
     "execution_count": 91,
     "metadata": {},
     "output_type": "execute_result"
    }
   ],
   "source": [
    "price = data.find_all(class_ = '_1aEZ')\n",
    "price[0]"
   ]
  },
  {
   "cell_type": "code",
   "execution_count": 92,
   "id": "0972bbd2",
   "metadata": {},
   "outputs": [
    {
     "name": "stdout",
     "output_type": "stream",
     "text": [
      "Rs. 179\n",
      "Rs. 239\n",
      "Rs. 58\n",
      "Rs. 155\n",
      "Rs. 299\n",
      "Rs. 479\n",
      "Rs. 265\n",
      "Rs. 509\n"
     ]
    }
   ],
   "source": [
    "for i in price:\n",
    "    for j in i.find_all(class_='_11kC LLvJ _3vjB'):\n",
    "        print(j.text)"
   ]
  },
  {
   "cell_type": "code",
   "execution_count": 191,
   "id": "e14ba0b0",
   "metadata": {},
   "outputs": [],
   "source": [
    "driver.back()"
   ]
  },
  {
   "cell_type": "code",
   "execution_count": 204,
   "id": "42559c7d",
   "metadata": {},
   "outputs": [],
   "source": [
    "driver.get('https://paytm.com/')"
   ]
  },
  {
   "cell_type": "code",
   "execution_count": 205,
   "id": "c7c7c410",
   "metadata": {},
   "outputs": [],
   "source": [
    "driver.find_elements('class name' , '_2EGQY')[10].click()"
   ]
  },
  {
   "cell_type": "code",
   "execution_count": 206,
   "id": "83275ed7",
   "metadata": {},
   "outputs": [],
   "source": [
    "from_ = driver.find_element('id',\"text-box\")"
   ]
  },
  {
   "cell_type": "code",
   "execution_count": 207,
   "id": "ab77cda8",
   "metadata": {},
   "outputs": [],
   "source": [
    "from_.send_keys('Delhi - All Stations')"
   ]
  },
  {
   "cell_type": "code",
   "execution_count": 208,
   "id": "5f2e6713",
   "metadata": {},
   "outputs": [],
   "source": [
    "driver.find_element('xpath' , '//div[@class=\"_16Y_\"]').click()"
   ]
  },
  {
   "cell_type": "code",
   "execution_count": null,
   "id": "c3892a5f",
   "metadata": {},
   "outputs": [],
   "source": []
  },
  {
   "cell_type": "code",
   "execution_count": 197,
   "id": "98d905f9",
   "metadata": {},
   "outputs": [],
   "source": [
    "from_.clear()"
   ]
  },
  {
   "cell_type": "code",
   "execution_count": 209,
   "id": "8ba223d4",
   "metadata": {},
   "outputs": [],
   "source": [
    "to_ = driver.find_elements('id' , 'text-box')[1]"
   ]
  },
  {
   "cell_type": "code",
   "execution_count": 210,
   "id": "14e7cdb3",
   "metadata": {},
   "outputs": [],
   "source": [
    "to_.send_keys('ASR - Amritsar Jn')"
   ]
  },
  {
   "cell_type": "code",
   "execution_count": 217,
   "id": "4472c4f1",
   "metadata": {},
   "outputs": [],
   "source": [
    "driver.find_element('xpath' , '//div[@class=\"_16Y_\"]').click()"
   ]
  },
  {
   "cell_type": "code",
   "execution_count": 154,
   "id": "d8f4a3c7",
   "metadata": {},
   "outputs": [],
   "source": [
    "to_.clear()"
   ]
  },
  {
   "cell_type": "code",
   "execution_count": 218,
   "id": "a3d89875",
   "metadata": {},
   "outputs": [],
   "source": [
    "date_ = driver.find_element('xpath' , '//div[@data-reactid=\"185\"]')"
   ]
  },
  {
   "cell_type": "code",
   "execution_count": 219,
   "id": "d0cb6c6d",
   "metadata": {},
   "outputs": [],
   "source": [
    "date_.click()"
   ]
  },
  {
   "cell_type": "code",
   "execution_count": 220,
   "id": "1d3576f4",
   "metadata": {},
   "outputs": [],
   "source": [
    "driver.find_element('partial link text' , 'Search').click()"
   ]
  },
  {
   "cell_type": "code",
   "execution_count": 245,
   "id": "8fbe46c4",
   "metadata": {},
   "outputs": [],
   "source": [
    "info_ = driver.find_element('class name' , \"_1BjQ\").text"
   ]
  },
  {
   "cell_type": "code",
   "execution_count": 243,
   "id": "243e667b",
   "metadata": {},
   "outputs": [
    {
     "data": {
      "text/plain": [
       "['12497', 'Shane Punjab', '06:40']"
      ]
     },
     "execution_count": 243,
     "metadata": {},
     "output_type": "execute_result"
    }
   ],
   "source": [
    "info_.split(\"\\n\")[0:3]"
   ]
  },
  {
   "cell_type": "code",
   "execution_count": 277,
   "id": "8a6bdc14",
   "metadata": {},
   "outputs": [
    {
     "name": "stdout",
     "output_type": "stream",
     "text": [
      "['12497', 'Shane Punjab', '06:40']\n",
      "----\n",
      "['12459', 'New Delhi Amritsar Express', '13:50']\n",
      "----\n",
      "['12483', 'Kcvl Asr Exp', '06:25']\n",
      "----\n",
      "['12925', 'Paschim Express', '11:05']\n",
      "----\n",
      "['12203', 'Garib Rath Exp', '14:05']\n",
      "----\n",
      "['11057', 'Csmt Amritsar Express', '03:55']\n",
      "----\n",
      "['12715', 'Sachkhand Exp', '13:20']\n",
      "----\n",
      "['12013', 'Asr Shtbdi Exp', '16:30']\n",
      "----\n",
      "['12029', 'Asr Shtbdi Exp', '07:20']\n",
      "----\n",
      "['15707', 'Kir Asr Special', '02:28']\n",
      "----\n",
      "['22429', 'Dli Ptk Exp', '08:15']\n",
      "----\n",
      "['18309', 'Sbp Jat Express', '21:25']\n",
      "----\n",
      "['18237', 'Chattisgarh Exp', '20:00']\n",
      "----\n",
      "['12903', 'Golden Temple', '14:05']\n",
      "----\n"
     ]
    }
   ],
   "source": [
    "info__ = driver.find_elements('xpath' , '//div[@class = \"_1BjQ\"]')\n",
    "for i in info__ :\n",
    "    inf_ = i.text\n",
    "    print(inf_.split(\"\\n\")[0:3])\n",
    "    print('----')"
   ]
  },
  {
   "cell_type": "code",
   "execution_count": 280,
   "id": "60c38d6d",
   "metadata": {},
   "outputs": [],
   "source": [
    "num_ = []\n",
    "name_ = []\n",
    "start_time = []\n",
    "info__ = driver.find_elements('xpath' , '//div[@class = \"_1BjQ\"]')\n",
    "for i in info__ :\n",
    "    inf_ = i.text\n",
    "    inf1 = inf_.split(\"\\n\")[0:3]\n",
    "    num_.append(inf1[0])\n",
    "    name_.append(inf1[1])\n",
    "    start_time.append(inf1[2])"
   ]
  },
  {
   "cell_type": "code",
   "execution_count": 282,
   "id": "839107d5",
   "metadata": {},
   "outputs": [
    {
     "data": {
      "text/html": [
       "<div>\n",
       "<style scoped>\n",
       "    .dataframe tbody tr th:only-of-type {\n",
       "        vertical-align: middle;\n",
       "    }\n",
       "\n",
       "    .dataframe tbody tr th {\n",
       "        vertical-align: top;\n",
       "    }\n",
       "\n",
       "    .dataframe thead th {\n",
       "        text-align: right;\n",
       "    }\n",
       "</style>\n",
       "<table border=\"1\" class=\"dataframe\">\n",
       "  <thead>\n",
       "    <tr style=\"text-align: right;\">\n",
       "      <th></th>\n",
       "      <th>Train Number</th>\n",
       "      <th>Train Name</th>\n",
       "      <th>Starting Time</th>\n",
       "    </tr>\n",
       "  </thead>\n",
       "  <tbody>\n",
       "    <tr>\n",
       "      <th>0</th>\n",
       "      <td>12497</td>\n",
       "      <td>Shane Punjab</td>\n",
       "      <td>06:40</td>\n",
       "    </tr>\n",
       "    <tr>\n",
       "      <th>1</th>\n",
       "      <td>12459</td>\n",
       "      <td>New Delhi Amritsar Express</td>\n",
       "      <td>13:50</td>\n",
       "    </tr>\n",
       "    <tr>\n",
       "      <th>2</th>\n",
       "      <td>12483</td>\n",
       "      <td>Kcvl Asr Exp</td>\n",
       "      <td>06:25</td>\n",
       "    </tr>\n",
       "    <tr>\n",
       "      <th>3</th>\n",
       "      <td>12925</td>\n",
       "      <td>Paschim Express</td>\n",
       "      <td>11:05</td>\n",
       "    </tr>\n",
       "    <tr>\n",
       "      <th>4</th>\n",
       "      <td>12203</td>\n",
       "      <td>Garib Rath Exp</td>\n",
       "      <td>14:05</td>\n",
       "    </tr>\n",
       "    <tr>\n",
       "      <th>5</th>\n",
       "      <td>11057</td>\n",
       "      <td>Csmt Amritsar Express</td>\n",
       "      <td>03:55</td>\n",
       "    </tr>\n",
       "    <tr>\n",
       "      <th>6</th>\n",
       "      <td>12715</td>\n",
       "      <td>Sachkhand Exp</td>\n",
       "      <td>13:20</td>\n",
       "    </tr>\n",
       "    <tr>\n",
       "      <th>7</th>\n",
       "      <td>12013</td>\n",
       "      <td>Asr Shtbdi Exp</td>\n",
       "      <td>16:30</td>\n",
       "    </tr>\n",
       "    <tr>\n",
       "      <th>8</th>\n",
       "      <td>12029</td>\n",
       "      <td>Asr Shtbdi Exp</td>\n",
       "      <td>07:20</td>\n",
       "    </tr>\n",
       "    <tr>\n",
       "      <th>9</th>\n",
       "      <td>15707</td>\n",
       "      <td>Kir Asr Special</td>\n",
       "      <td>02:28</td>\n",
       "    </tr>\n",
       "    <tr>\n",
       "      <th>10</th>\n",
       "      <td>22429</td>\n",
       "      <td>Dli Ptk Exp</td>\n",
       "      <td>08:15</td>\n",
       "    </tr>\n",
       "    <tr>\n",
       "      <th>11</th>\n",
       "      <td>18309</td>\n",
       "      <td>Sbp Jat Express</td>\n",
       "      <td>21:25</td>\n",
       "    </tr>\n",
       "    <tr>\n",
       "      <th>12</th>\n",
       "      <td>18237</td>\n",
       "      <td>Chattisgarh Exp</td>\n",
       "      <td>20:00</td>\n",
       "    </tr>\n",
       "    <tr>\n",
       "      <th>13</th>\n",
       "      <td>12903</td>\n",
       "      <td>Golden Temple</td>\n",
       "      <td>14:05</td>\n",
       "    </tr>\n",
       "  </tbody>\n",
       "</table>\n",
       "</div>"
      ],
      "text/plain": [
       "   Train Number                  Train Name Starting Time\n",
       "0         12497                Shane Punjab         06:40\n",
       "1         12459  New Delhi Amritsar Express         13:50\n",
       "2         12483                Kcvl Asr Exp         06:25\n",
       "3         12925             Paschim Express         11:05\n",
       "4         12203              Garib Rath Exp         14:05\n",
       "5         11057       Csmt Amritsar Express         03:55\n",
       "6         12715               Sachkhand Exp         13:20\n",
       "7         12013              Asr Shtbdi Exp         16:30\n",
       "8         12029              Asr Shtbdi Exp         07:20\n",
       "9         15707             Kir Asr Special         02:28\n",
       "10        22429                 Dli Ptk Exp         08:15\n",
       "11        18309             Sbp Jat Express         21:25\n",
       "12        18237             Chattisgarh Exp         20:00\n",
       "13        12903               Golden Temple         14:05"
      ]
     },
     "execution_count": 282,
     "metadata": {},
     "output_type": "execute_result"
    }
   ],
   "source": [
    "import numpy as np\n",
    "pd.DataFrame({'Train Number' : num_ ,'Train Name' : name_ , 'Starting Time' : start_time} , index = np.arange(14))"
   ]
  },
  {
   "cell_type": "code",
   "execution_count": null,
   "id": "17fa1ea7",
   "metadata": {},
   "outputs": [],
   "source": []
  }
 ],
 "metadata": {
  "kernelspec": {
   "display_name": "Python 3",
   "language": "python",
   "name": "python3"
  },
  "language_info": {
   "codemirror_mode": {
    "name": "ipython",
    "version": 3
   },
   "file_extension": ".py",
   "mimetype": "text/x-python",
   "name": "python",
   "nbconvert_exporter": "python",
   "pygments_lexer": "ipython3",
   "version": "3.9.12"
  }
 },
 "nbformat": 4,
 "nbformat_minor": 5
}
