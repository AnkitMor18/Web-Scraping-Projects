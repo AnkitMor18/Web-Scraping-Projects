{
 "cells": [
  {
   "cell_type": "code",
   "execution_count": 1,
   "id": "692ccd49",
   "metadata": {},
   "outputs": [],
   "source": [
    "from selenium import webdriver\n",
    "from bs4 import BeautifulSoup\n",
    "import requests"
   ]
  },
  {
   "cell_type": "code",
   "execution_count": 2,
   "id": "5e6b870d",
   "metadata": {},
   "outputs": [
    {
     "name": "stderr",
     "output_type": "stream",
     "text": [
      "C:\\Users\\Sumit\\AppData\\Local\\Temp\\ipykernel_2060\\2045671656.py:1: DeprecationWarning: executable_path has been deprecated, please pass in a Service object\n",
      "  driver = webdriver.Chrome(executable_path = r'C:\\Users\\Sumit\\Downloads\\chromedriver_win32\\chromedriver.exe')\n"
     ]
    }
   ],
   "source": [
    "driver = webdriver.Chrome(executable_path = r'C:\\Users\\Sumit\\Downloads\\chromedriver_win32\\chromedriver.exe')"
   ]
  },
  {
   "cell_type": "code",
   "execution_count": 3,
   "id": "dc8f818f",
   "metadata": {},
   "outputs": [],
   "source": [
    "driver.get('https://www.instagram.com/')"
   ]
  },
  {
   "cell_type": "code",
   "execution_count": 9,
   "id": "2462448a",
   "metadata": {},
   "outputs": [],
   "source": [
    "username = driver.find_element('name' , \"username\")\n",
    "username.send_keys('8950118596')"
   ]
  },
  {
   "cell_type": "code",
   "execution_count": 10,
   "id": "fbea094d",
   "metadata": {},
   "outputs": [],
   "source": [
    "pswrd = driver.find_element('name' , \"password\")\n",
    "pswrd.send_keys('pocox2')"
   ]
  },
  {
   "cell_type": "code",
   "execution_count": 13,
   "id": "faaf7fc8",
   "metadata": {},
   "outputs": [],
   "source": [
    "driver.find_element('xpath' ,'//div[@class=\"x9f619 xjbqb8w x78zum5 x168nmei x13lgxp2 x5pf9jr xo71vjh x1xmf6yo x1e56ztr x540dpk x1m39q7l x1n2onr6 x1plvlek xryxfnj x1c4vz4f x2lah0s xdt5ytf xqjyukv x1qjc9v5 x1oa3qoh x1nhvcw1\"]').submit()"
   ]
  },
  {
   "cell_type": "code",
   "execution_count": 25,
   "id": "aacef1be",
   "metadata": {},
   "outputs": [
    {
     "data": {
      "text/plain": [
       "'<div class=\"_a9-w\"><div class=\"_aake\"><div class=\"_aakf\"><img alt=\"\" height=\"76px\" src=\"/images/instagram/xig/ico/xxhdpi_launcher.png?__d=www\" width=\"76px\"></div></div></div><div class=\"_a9-y\"><span class=\"x1lliihq x1plvlek xryxfnj x1n2onr6 x193iq5w xeuugli x1fj9vlw x13faqbe x1vvkbs x1s928wv xhkezso x1gmr53x x1cpjm7i x1fgarty x1943h6x x1i0vuye x133cpev x1xlr1w8 x5n08af x4zkp8e x41vudc x10wh9bi x1wdrske x8viiok x18hxmgj\" style=\"line-height: var(--base-line-clamp-line-height); --base-line-clamp-line-height:30px;\">Turn on Notifications</span><span class=\"x1lliihq x1plvlek xryxfnj x1n2onr6 x193iq5w xeuugli x1fj9vlw x13faqbe x1vvkbs x1s928wv xhkezso x1gmr53x x1cpjm7i x1fgarty x1943h6x x1i0vuye xvs91rp xo1l8bm x1roi4f4 x1tu3fi x3x7a5m x10wh9bi x1wdrske x8viiok x18hxmgj\" style=\"line-height: var(--base-line-clamp-line-height); --base-line-clamp-line-height:18px;\">Know right away when people follow you or like and comment on your photos.</span></div><div class=\"_a9-z\"><button class=\"_a9-- _a9_0\" tabindex=\"0\">Turn On</button><button class=\"_a9-- _a9_1\" tabindex=\"0\">Not Now</button></div>'"
      ]
     },
     "execution_count": 25,
     "metadata": {},
     "output_type": "execute_result"
    }
   ],
   "source": [
    "driver.find_element('xpath' ,'//div[@class=\"_a9-v\"]').get_attribute('innerHTML')\n"
   ]
  },
  {
   "cell_type": "code",
   "execution_count": 37,
   "id": "bce267a7",
   "metadata": {},
   "outputs": [
    {
     "data": {
      "text/plain": [
       "'<button class=\"_a9-- _a9_0\" tabindex=\"0\">Turn On</button>'"
      ]
     },
     "execution_count": 37,
     "metadata": {},
     "output_type": "execute_result"
    }
   ],
   "source": [
    "driver.find_element('xpath' ,'//div[@class=\"_a9-v\"]').find_element('xpath' , '//*[@class=\"_a9-- _a9_0\"]')"
   ]
  },
  {
   "cell_type": "code",
   "execution_count": 42,
   "id": "c4f125d8",
   "metadata": {},
   "outputs": [],
   "source": [
    "driver.find_element('xpath' ,'//*[@class=\"_a9-- _a9_1\"]').click()"
   ]
  },
  {
   "cell_type": "code",
   "execution_count": 57,
   "id": "4ca24b5a",
   "metadata": {},
   "outputs": [],
   "source": [
    "driver.find_element('xpath' ,'//*[@aria-label=\"Search\"]').click()"
   ]
  },
  {
   "cell_type": "code",
   "execution_count": 59,
   "id": "7014a594",
   "metadata": {},
   "outputs": [],
   "source": [
    "driver.find_element('xpath' ,'//*[@aria-label=\"Search input\"]').send_keys('Coding Ninjas')"
   ]
  },
  {
   "cell_type": "code",
   "execution_count": 61,
   "id": "889bd497",
   "metadata": {},
   "outputs": [],
   "source": [
    "driver.find_element('partial link text' , 'coding.ninjas').click()"
   ]
  },
  {
   "cell_type": "code",
   "execution_count": 62,
   "id": "c0457348",
   "metadata": {},
   "outputs": [],
   "source": [
    "driver.find_element('xpath' ,'//*[@href=\"/p/Cq4_b9GLlqJ/\"]').click()"
   ]
  },
  {
   "cell_type": "code",
   "execution_count": 68,
   "id": "fe551a8e",
   "metadata": {},
   "outputs": [
    {
     "name": "stdout",
     "output_type": "stream",
     "text": [
      "Who is this mastermind behind all these best posts 🔥 dammm it's really cool you are putting all your thoughts in everything I mean every single thing is project for uh keep going 😭\n",
      "------\n",
      "Loops super gaints🔥❤️\n",
      "------\n",
      "Mumbai Iterative\n",
      "------\n",
      "Chennai syntax kings always 🥳💛\n",
      "------\n",
      "Recursion Royals\n",
      "------\n",
      "Metaverse Indian in da house🔥🔥\n",
      "------\n"
     ]
    }
   ],
   "source": [
    "for i in driver.find_elements('xpath' ,'//*[@class=\"_a9zs\"]')[1:7]:\n",
    "    print(i.text)\n",
    "    print('------')"
   ]
  },
  {
   "cell_type": "code",
   "execution_count": 69,
   "id": "cb67e54b",
   "metadata": {},
   "outputs": [],
   "source": [
    "driver.quit()"
   ]
  },
  {
   "cell_type": "code",
   "execution_count": null,
   "id": "a5d1a9eb",
   "metadata": {},
   "outputs": [],
   "source": []
  }
 ],
 "metadata": {
  "kernelspec": {
   "display_name": "Python 3",
   "language": "python",
   "name": "python3"
  },
  "language_info": {
   "codemirror_mode": {
    "name": "ipython",
    "version": 3
   },
   "file_extension": ".py",
   "mimetype": "text/x-python",
   "name": "python",
   "nbconvert_exporter": "python",
   "pygments_lexer": "ipython3",
   "version": "3.9.12"
  }
 },
 "nbformat": 4,
 "nbformat_minor": 5
}
